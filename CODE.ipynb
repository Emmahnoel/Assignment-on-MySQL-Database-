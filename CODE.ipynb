{
 "cells": [
  {
   "cell_type": "code",
   "execution_count": 1,
   "metadata": {},
   "outputs": [],
   "source": [
    "import mysql.connector"
   ]
  },
  {
   "cell_type": "code",
   "execution_count": 2,
   "metadata": {},
   "outputs": [],
   "source": [
    "mydb = mysql.connector.connect(\n",
    "  host=\"localhost\",\n",
    "  user=\"root\",\n",
    "  password=\"emmah\",\n",
    "  database=\"test\"\n",
    ")"
   ]
  },
  {
   "cell_type": "code",
   "execution_count": 3,
   "metadata": {},
   "outputs": [
    {
     "name": "stdout",
     "output_type": "stream",
     "text": [
      "('lfp2018',)\n"
     ]
    }
   ],
   "source": [
    "mycursor = mydb.cursor()\n",
    "\n",
    "mycursor.execute(\"SHOW TABLES\")\n",
    "\n",
    "for x in mycursor:\n",
    "  print(x)"
   ]
  },
  {
   "cell_type": "code",
   "execution_count": 4,
   "metadata": {},
   "outputs": [
    {
     "name": "stdout",
     "output_type": "stream",
     "text": [
      "(1, 'ABIA', 2023767.765, 1384053.764, 971940.2318)\n",
      "(2, 'ADAMAWA', 1588278.284, 1257232.151, 724612.6128)\n",
      "(3, 'AKWA-IBOM', 3599981.393, 2242227.699, 2081274.495)\n",
      "(4, 'ANAMBRA', 3251914.782, 2683681.973, 1140385.238)\n",
      "(5, 'BAUCHI', 2122724.499, 1624123.445, 1000322.703)\n",
      "(6, 'BAYELSA', 1362013.642, 918576.3358, 678171.0585)\n",
      "(7, 'BENUE', 2777485.249, 2218229.987, 1253173.43)\n",
      "(8, 'BORNO', 2468889.844, 1693826.943, 1404753.611)\n",
      "(9, 'CROSS RIVER', 1936997.976, 1343610.574, 979105.8321)\n",
      "(10, 'DELTA', 3120369.51, 2329084.999, 1350328.302)\n",
      "(11, 'EBONYI', 1528582.172, 1205683.617, 624371.3834)\n",
      "(12, 'EDO', 2095235.333, 1569481.293, 911076.9891)\n",
      "(13, 'EKITI', 1770459.249, 1412959.576, 605826.49)\n",
      "(14, 'ENUGU', 2467331.567, 2006869.132, 896774.2223)\n",
      "(15, 'GOMBE', 995947.1922, 727056.5354, 504951.0718)\n",
      "(16, 'IMO', 3123271.134, 2242920.268, 1351431.972)\n",
      "(17, 'JIGAWA', 1553869.891, 1141942.717, 1004199.796)\n",
      "(18, 'KADUNA', 3504776.637, 2564296.158, 2027079.703)\n",
      "(19, 'KANO', 4022761.244, 2765631.259, 2233789.403)\n",
      "(20, 'KATSINA', 1799855.083, 1542017.875, 968656.4822)\n",
      "(21, 'KEBBI', 1556976.408, 1243932.758, 576711.9579)\n",
      "(22, 'KOGI', 2463101.668, 1977449.079, 1097473.728)\n",
      "(23, 'KWARA', 1612475.845, 1271808.452, 685528.9978)\n",
      "(24, 'LAGOS', 7478255.625, 6389903.64, 2012469.481)\n",
      "(25, 'NASARAWA', 1366207.329, 991996.2149, 705787.3622)\n",
      "(26, 'NIGER', 1917789.534, 1517904.995, 916391.4025)\n",
      "(27, 'OGUN', 3116782.024, 2605505.369, 849911.5893)\n",
      "(28, 'ONDO', 2502481.879, 2146218.797, 792992.0993)\n",
      "(29, 'OSUN', 2466518.617, 2218203.01, 609184.2)\n",
      "(30, 'OYO', 4032123.495, 3615293.179, 995220.3671)\n",
      "(31, 'PLATEAU', 2084700.311, 1463885.329, 1074269.333)\n",
      "(32, 'RIVERS', 4601135.39, 2927144.417, 2674076.26)\n",
      "(33, 'SOKOTO', 1672919.586, 1237217.781, 880738.4934)\n",
      "(34, 'TARABA', 2207684.201, 1788779.5, 617684.3072)\n",
      "(35, 'YOBE', 1113650.258, 791184.3512, 656020.0426)\n",
      "(36, 'ZAMFARA', 1427042.24, 1170525.161, 584865.0115)\n",
      "(37, 'FCT', 1736234.752, 1312485.278, 702388.3078)\n"
     ]
    }
   ],
   "source": [
    "mycursor = mydb.cursor()\n",
    "mycursor.execute(\"SELECT * FROM lfp2018\")\n",
    "myresult = mycursor.fetchall()\n",
    "for x in myresult:\n",
    "    print(x)"
   ]
  },
  {
   "cell_type": "code",
   "execution_count": 5,
   "metadata": {},
   "outputs": [
    {
     "name": "stdout",
     "output_type": "stream",
     "text": [
      "(3, 'AKWA-IBOM', 3599981.393, 2242227.699, 2081274.495)\n"
     ]
    }
   ],
   "source": [
    "mycursor = mydb.cursor()\n",
    "mycursor.execute(\"SELECT * FROM lfp2018 WHERE id='3'\")\n",
    "myresult = mycursor.fetchall()\n",
    "for x in myresult:\n",
    "    print(x)"
   ]
  },
  {
   "cell_type": "code",
   "execution_count": 6,
   "metadata": {},
   "outputs": [],
   "source": [
    "mycursor = mydb.cursor()\n",
    "mycursor.execute(\"SELECT * FROM lfp2018 WHERE State ='3'\")\n",
    "myresult = mycursor.fetchall()\n",
    "for x in myresult:\n",
    "    print(x)"
   ]
  },
  {
   "cell_type": "code",
   "execution_count": 7,
   "metadata": {},
   "outputs": [],
   "source": [
    "mycursor = mydb.cursor()\n",
    "sql = \"INSERT INTO lfp2018 (id,State,Labour_Force_Population,Total_Employed,Total_Unemployed_Plus_Underemployed) VALUES (%s, %s, %s,%s, %s)\"\n",
    "val = (\"57\", \"KANO\", \"234\", \"345\",\"456\")\n",
    "mycursor.execute(sql,val)\n",
    "myresult = mycursor.fetchall()\n",
    "for x in myresult:\n",
    "    print(x)"
   ]
  },
  {
   "cell_type": "code",
   "execution_count": 8,
   "metadata": {},
   "outputs": [
    {
     "name": "stdout",
     "output_type": "stream",
     "text": [
      "(1, 'ABIA', 2023767.765, 1384053.764, 971940.2318)\n",
      "(2, 'ADAMAWA', 1588278.284, 1257232.151, 724612.6128)\n",
      "(3, 'AKWA-IBOM', 3599981.393, 2242227.699, 2081274.495)\n",
      "(4, 'ANAMBRA', 3251914.782, 2683681.973, 1140385.238)\n",
      "(5, 'BAUCHI', 2122724.499, 1624123.445, 1000322.703)\n",
      "(6, 'BAYELSA', 1362013.642, 918576.3358, 678171.0585)\n",
      "(7, 'BENUE', 2777485.249, 2218229.987, 1253173.43)\n",
      "(8, 'BORNO', 2468889.844, 1693826.943, 1404753.611)\n",
      "(9, 'CROSS RIVER', 1936997.976, 1343610.574, 979105.8321)\n",
      "(10, 'DELTA', 3120369.51, 2329084.999, 1350328.302)\n",
      "(11, 'EBONYI', 1528582.172, 1205683.617, 624371.3834)\n",
      "(12, 'EDO', 2095235.333, 1569481.293, 911076.9891)\n",
      "(13, 'EKITI', 1770459.249, 1412959.576, 605826.49)\n",
      "(14, 'ENUGU', 2467331.567, 2006869.132, 896774.2223)\n",
      "(37, 'FCT', 1736234.752, 1312485.278, 702388.3078)\n",
      "(15, 'GOMBE', 995947.1922, 727056.5354, 504951.0718)\n",
      "(16, 'IMO', 3123271.134, 2242920.268, 1351431.972)\n",
      "(17, 'JIGAWA', 1553869.891, 1141942.717, 1004199.796)\n",
      "(18, 'KADUNA', 3504776.637, 2564296.158, 2027079.703)\n",
      "(57, 'KANO', 234.0, 345.0, 456.0)\n",
      "(19, 'KANO', 4022761.244, 2765631.259, 2233789.403)\n",
      "(20, 'KATSINA', 1799855.083, 1542017.875, 968656.4822)\n",
      "(21, 'KEBBI', 1556976.408, 1243932.758, 576711.9579)\n",
      "(22, 'KOGI', 2463101.668, 1977449.079, 1097473.728)\n",
      "(23, 'KWARA', 1612475.845, 1271808.452, 685528.9978)\n",
      "(24, 'LAGOS', 7478255.625, 6389903.64, 2012469.481)\n",
      "(25, 'NASARAWA', 1366207.329, 991996.2149, 705787.3622)\n",
      "(26, 'NIGER', 1917789.534, 1517904.995, 916391.4025)\n",
      "(27, 'OGUN', 3116782.024, 2605505.369, 849911.5893)\n",
      "(28, 'ONDO', 2502481.879, 2146218.797, 792992.0993)\n",
      "(29, 'OSUN', 2466518.617, 2218203.01, 609184.2)\n",
      "(30, 'OYO', 4032123.495, 3615293.179, 995220.3671)\n",
      "(31, 'PLATEAU', 2084700.311, 1463885.329, 1074269.333)\n",
      "(32, 'RIVERS', 4601135.39, 2927144.417, 2674076.26)\n",
      "(33, 'SOKOTO', 1672919.586, 1237217.781, 880738.4934)\n",
      "(34, 'TARABA', 2207684.201, 1788779.5, 617684.3072)\n",
      "(35, 'YOBE', 1113650.258, 791184.3512, 656020.0426)\n",
      "(36, 'ZAMFARA', 1427042.24, 1170525.161, 584865.0115)\n"
     ]
    }
   ],
   "source": [
    "mycursor = mydb.cursor()\n",
    "sql = \"SELECT * FROM lfp2018 ORDER BY State\"\n",
    "mycursor.execute(sql)\n",
    "myresult = mycursor.fetchall()\n",
    "for x in myresult:\n",
    "  print(x)"
   ]
  },
  {
   "cell_type": "code",
   "execution_count": 9,
   "metadata": {},
   "outputs": [],
   "source": [
    "import ipywidgets as wg"
   ]
  },
  {
   "cell_type": "code",
   "execution_count": 10,
   "metadata": {},
   "outputs": [],
   "source": [
    "from IPython.display import display"
   ]
  },
  {
   "cell_type": "code",
   "execution_count": 11,
   "metadata": {},
   "outputs": [
    {
     "data": {
      "application/vnd.jupyter.widget-view+json": {
       "model_id": "931b1da624454f2eb6a696ac716ce386",
       "version_major": 2,
       "version_minor": 0
      },
      "text/plain": [
       "Text(value='State')"
      ]
     },
     "metadata": {},
     "output_type": "display_data"
    },
    {
     "data": {
      "application/vnd.jupyter.widget-view+json": {
       "model_id": "cfdad7c0e99c4bb7ae6fb3a8ca5031a6",
       "version_major": 2,
       "version_minor": 0
      },
      "text/plain": [
       "IntSlider(value=0, description='Population:')"
      ]
     },
     "metadata": {},
     "output_type": "display_data"
    }
   ],
   "source": [
    "State = wg.Text(value='State')\n",
    "Population = wg.IntSlider(description='Population:')\n",
    "display(State,Population)"
   ]
  },
  {
   "cell_type": "code",
   "execution_count": null,
   "metadata": {},
   "outputs": [],
   "source": []
  }
 ],
 "metadata": {
  "kernelspec": {
   "display_name": "Python 3",
   "language": "python",
   "name": "python3"
  },
  "language_info": {
   "codemirror_mode": {
    "name": "ipython",
    "version": 3
   },
   "file_extension": ".py",
   "mimetype": "text/x-python",
   "name": "python",
   "nbconvert_exporter": "python",
   "pygments_lexer": "ipython3",
   "version": "3.8.5"
  }
 },
 "nbformat": 4,
 "nbformat_minor": 4
}
